{
  "nbformat": 4,
  "nbformat_minor": 0,
  "metadata": {
    "colab": {
      "provenance": [],
      "gpuType": "T4"
    },
    "kernelspec": {
      "name": "python3",
      "display_name": "Python 3"
    },
    "language_info": {
      "name": "python"
    },
    "accelerator": "GPU"
  },
  "cells": [
    {
      "cell_type": "markdown",
      "source": [
        "Import library\n",
        "\n",
        "\n",
        "*   Numpy\n",
        "*   Pandas\n",
        "*   Tensorflow\n",
        "*   Sklearn\n",
        "\n"
      ],
      "metadata": {
        "id": "TGX8awUQQy8A"
      }
    },
    {
      "cell_type": "code",
      "source": [
        "import numpy as np\n",
        "import pandas as pd\n",
        "import tensorflow as tf\n",
        "import matplotlib.pyplot as plt\n",
        "from tensorflow.keras.callbacks import EarlyStopping\n",
        "from sklearn.preprocessing import StandardScaler, LabelEncoder\n",
        "from sklearn.metrics import accuracy_score, classification_report"
      ],
      "metadata": {
        "id": "KD-4zkybQdDW"
      },
      "execution_count": 1,
      "outputs": []
    },
    {
      "cell_type": "markdown",
      "source": [
        "Reading data from CSV and split into train and val with 80:20 ratio"
      ],
      "metadata": {
        "id": "dmXUJ1h6RKxg"
      }
    },
    {
      "cell_type": "code",
      "execution_count": 14,
      "metadata": {
        "id": "fQ3_fdwDYgho"
      },
      "outputs": [],
      "source": [
        "df = pd.read_csv('Stunting Datasets.csv', delimiter=';')\n",
        "# df_1 = pd.read_csv('Stunting Datasets.csv', sep=';', engine='python')\n",
        "# df_2 = pd.read_csv('Stunting Datasets 2.csv', sep=';', engine='python')\n",
        "\n",
        "# df = pd.concat([df_1, df_2], axis=0, ignore_index=True)\n",
        "\n",
        "group_counts = df.groupby(['Age', 'Gender', 'Category']).size().reset_index(name='Count')\n",
        "\n",
        "train_ratio = 0.7\n",
        "val_ratio = 0.2\n",
        "\n",
        "train_counts = (group_counts['Count'] * train_ratio).astype(int)\n",
        "val_counts = (group_counts['Count'] * val_ratio).astype(int)\n",
        "\n",
        "train_data = pd.DataFrame()\n",
        "val_data = pd.DataFrame()\n",
        "\n",
        "for i, row in group_counts.iterrows():\n",
        "    subset = df[(df['Age'] == row['Age']) & (df['Gender'] == row['Gender']) & (df['Category'] == row['Category'])]\n",
        "    train_data = pd.concat([train_data, subset.head(train_counts[i])], ignore_index=True)\n",
        "    val_data = pd.concat([val_data, subset.head(val_counts[i])], ignore_index=True)"
      ]
    },
    {
      "cell_type": "code",
      "source": [
        "print(df)"
      ],
      "metadata": {
        "colab": {
          "base_uri": "https://localhost:8080/"
        },
        "id": "VGISIuSNpAk5",
        "outputId": "dcf2a72e-3362-4a3a-b8b6-19867f44dbbc"
      },
      "execution_count": 15,
      "outputs": [
        {
          "output_type": "stream",
          "name": "stdout",
          "text": [
            "      Age  Gender  Height  Weight  Category\n",
            "0       1       0   77.17   11.74    Normal\n",
            "1       1       0   76.87   11.11    Normal\n",
            "2       1       0   76.68   10.10    Normal\n",
            "3       1       0   77.22   10.77    Normal\n",
            "4       1       0   76.21    9.64    Normal\n",
            "...   ...     ...     ...     ...       ...\n",
            "6995    5       1   96.19   10.25  Stunting\n",
            "6996    5       1   99.71   11.26  Stunting\n",
            "6997    5       1   96.91   12.27  Stunting\n",
            "6998    5       1   99.63   11.17  Stunting\n",
            "6999    5       1   99.65   10.73  Stunting\n",
            "\n",
            "[7000 rows x 5 columns]\n"
          ]
        }
      ]
    },
    {
      "cell_type": "markdown",
      "source": [
        "Encode the Category column and define the train, val, and test variable"
      ],
      "metadata": {
        "id": "3AkKB38oRSst"
      }
    },
    {
      "cell_type": "code",
      "source": [
        "label_encoder = LabelEncoder()\n",
        "train_data['Category'] = label_encoder.fit_transform(train_data['Category'])\n",
        "val_data['Category'] = label_encoder.transform(val_data['Category'])\n",
        "\n",
        "X_train = train_data[['Age', 'Gender', 'Height', 'Weight']]\n",
        "y_train = train_data['Category']\n",
        "X_val = val_data[['Age', 'Gender', 'Height', 'Weight']]\n",
        "y_val = val_data['Category']\n",
        "\n",
        "scaler = StandardScaler()\n",
        "X_train = scaler.fit_transform(X_train)\n",
        "X_val = scaler.transform(X_val)"
      ],
      "metadata": {
        "id": "WeGRSJAkd2e5"
      },
      "execution_count": 16,
      "outputs": []
    },
    {
      "cell_type": "markdown",
      "source": [
        "Creating model using fully connected layer (recommended for numerical datasets and prediction)\n",
        "*    3 layers with 4 features input (Age, Gender, Height, Weight)\n",
        "*    Optimizer using Adam, Loss using MSE\n",
        "*    Using Callbacks to stop train if val_accuracy reach max for 3 times"
      ],
      "metadata": {
        "id": "6QXGXGRARddA"
      }
    },
    {
      "cell_type": "code",
      "source": [
        "model = tf.keras.Sequential([\n",
        "    tf.keras.layers.Dense(4, input_shape=(4,), activation='relu'),\n",
        "    tf.keras.layers.Dropout(0.3),\n",
        "    tf.keras.layers.Dense(16, activation='relu'),\n",
        "    tf.keras.layers.Dropout(0.5),\n",
        "    tf.keras.layers.Dense(1, activation='sigmoid')\n",
        "])\n",
        "\n",
        "model.compile(\n",
        "    optimizer=tf.keras.optimizers.Adam(learning_rate=0.0001),\n",
        "    loss='mse',\n",
        "    metrics=['accuracy']\n",
        ")\n",
        "\n",
        "early_stop = EarlyStopping(\n",
        "    monitor='val_loss',\n",
        "    patience=3,\n",
        "    restore_best_weights=True\n",
        ")\n",
        "\n",
        "history = model.fit(X_train, y_train, epochs=100, batch_size=32, validation_data=(X_val, y_val), callbacks=[early_stop])\n",
        "\n",
        "train_loss = history.history['loss']\n",
        "val_loss = history.history['val_loss']\n",
        "\n",
        "train_accuracy = history.history['accuracy']\n",
        "val_accuracy = history.history['val_accuracy']\n",
        "\n",
        "epochs = range(1, len(train_loss) + 1)\n",
        "\n",
        "plt.plot(epochs, train_loss, 'bo-', label='Training Loss')\n",
        "plt.plot(epochs, val_loss, 'ro-', label='Validation Loss')\n",
        "plt.title('Training and Validation Loss')\n",
        "plt.xlabel('Epochs')\n",
        "plt.ylabel('Loss')\n",
        "plt.legend()\n",
        "plt.show()\n",
        "\n",
        "plt.plot(epochs, train_accuracy, 'bo-', label='Training Accuracy')\n",
        "plt.plot(epochs, val_accuracy, 'ro-', label='Validation Accuracy')\n",
        "plt.title('Training and Validation Accuracy')\n",
        "plt.xlabel('Epochs')\n",
        "plt.ylabel('Accuracy')\n",
        "plt.legend()\n",
        "plt.show()"
      ],
      "metadata": {
        "id": "xI2VEB49QuDm",
        "colab": {
          "base_uri": "https://localhost:8080/",
          "height": 1000
        },
        "outputId": "a3a66ea2-674a-4492-fddf-a6653525d0a5"
      },
      "execution_count": 17,
      "outputs": [
        {
          "output_type": "stream",
          "name": "stdout",
          "text": [
            "Epoch 1/100\n",
            "153/153 [==============================] - 8s 5ms/step - loss: 0.3058 - accuracy: 0.4363 - val_loss: 0.2918 - val_accuracy: 0.4564\n",
            "Epoch 2/100\n",
            "153/153 [==============================] - 1s 4ms/step - loss: 0.2909 - accuracy: 0.4529 - val_loss: 0.2771 - val_accuracy: 0.4614\n",
            "Epoch 3/100\n",
            "153/153 [==============================] - 1s 4ms/step - loss: 0.2818 - accuracy: 0.4557 - val_loss: 0.2650 - val_accuracy: 0.3707\n",
            "Epoch 4/100\n",
            "153/153 [==============================] - 1s 4ms/step - loss: 0.2727 - accuracy: 0.4756 - val_loss: 0.2539 - val_accuracy: 0.3514\n",
            "Epoch 5/100\n",
            "153/153 [==============================] - 1s 4ms/step - loss: 0.2632 - accuracy: 0.4908 - val_loss: 0.2451 - val_accuracy: 0.5479\n",
            "Epoch 6/100\n",
            "153/153 [==============================] - 1s 4ms/step - loss: 0.2539 - accuracy: 0.5172 - val_loss: 0.2385 - val_accuracy: 0.6143\n",
            "Epoch 7/100\n",
            "153/153 [==============================] - 1s 5ms/step - loss: 0.2469 - accuracy: 0.5486 - val_loss: 0.2323 - val_accuracy: 0.6907\n",
            "Epoch 8/100\n",
            "153/153 [==============================] - 1s 5ms/step - loss: 0.2429 - accuracy: 0.5674 - val_loss: 0.2271 - val_accuracy: 0.6950\n",
            "Epoch 9/100\n",
            "153/153 [==============================] - 1s 5ms/step - loss: 0.2394 - accuracy: 0.5818 - val_loss: 0.2227 - val_accuracy: 0.6957\n",
            "Epoch 10/100\n",
            "153/153 [==============================] - 1s 6ms/step - loss: 0.2330 - accuracy: 0.5973 - val_loss: 0.2184 - val_accuracy: 0.6964\n",
            "Epoch 11/100\n",
            "153/153 [==============================] - 1s 4ms/step - loss: 0.2286 - accuracy: 0.6029 - val_loss: 0.2144 - val_accuracy: 0.6979\n",
            "Epoch 12/100\n",
            "153/153 [==============================] - 1s 4ms/step - loss: 0.2262 - accuracy: 0.6273 - val_loss: 0.2105 - val_accuracy: 0.6986\n",
            "Epoch 13/100\n",
            "153/153 [==============================] - 1s 4ms/step - loss: 0.2263 - accuracy: 0.6225 - val_loss: 0.2068 - val_accuracy: 0.7093\n",
            "Epoch 14/100\n",
            "153/153 [==============================] - 1s 4ms/step - loss: 0.2217 - accuracy: 0.6463 - val_loss: 0.2028 - val_accuracy: 0.7214\n",
            "Epoch 15/100\n",
            "153/153 [==============================] - 1s 4ms/step - loss: 0.2190 - accuracy: 0.6559 - val_loss: 0.1990 - val_accuracy: 0.7443\n",
            "Epoch 16/100\n",
            "153/153 [==============================] - 1s 5ms/step - loss: 0.2146 - accuracy: 0.6668 - val_loss: 0.1951 - val_accuracy: 0.7643\n",
            "Epoch 17/100\n",
            "153/153 [==============================] - 1s 4ms/step - loss: 0.2105 - accuracy: 0.6863 - val_loss: 0.1911 - val_accuracy: 0.7757\n",
            "Epoch 18/100\n",
            "153/153 [==============================] - 1s 4ms/step - loss: 0.2087 - accuracy: 0.6916 - val_loss: 0.1871 - val_accuracy: 0.7793\n",
            "Epoch 19/100\n",
            "153/153 [==============================] - 1s 4ms/step - loss: 0.2040 - accuracy: 0.6984 - val_loss: 0.1830 - val_accuracy: 0.7921\n",
            "Epoch 20/100\n",
            "153/153 [==============================] - 1s 4ms/step - loss: 0.1999 - accuracy: 0.7111 - val_loss: 0.1785 - val_accuracy: 0.8007\n",
            "Epoch 21/100\n",
            "153/153 [==============================] - 1s 4ms/step - loss: 0.1970 - accuracy: 0.7141 - val_loss: 0.1741 - val_accuracy: 0.8057\n",
            "Epoch 22/100\n",
            "153/153 [==============================] - 1s 4ms/step - loss: 0.1946 - accuracy: 0.7234 - val_loss: 0.1695 - val_accuracy: 0.8171\n",
            "Epoch 23/100\n",
            "153/153 [==============================] - 1s 4ms/step - loss: 0.1902 - accuracy: 0.7348 - val_loss: 0.1648 - val_accuracy: 0.8286\n",
            "Epoch 24/100\n",
            "153/153 [==============================] - 1s 4ms/step - loss: 0.1839 - accuracy: 0.7377 - val_loss: 0.1597 - val_accuracy: 0.8329\n",
            "Epoch 25/100\n",
            "153/153 [==============================] - 1s 4ms/step - loss: 0.1797 - accuracy: 0.7564 - val_loss: 0.1546 - val_accuracy: 0.8486\n",
            "Epoch 26/100\n",
            "153/153 [==============================] - 1s 5ms/step - loss: 0.1771 - accuracy: 0.7797 - val_loss: 0.1494 - val_accuracy: 0.8564\n",
            "Epoch 27/100\n",
            "153/153 [==============================] - 1s 5ms/step - loss: 0.1735 - accuracy: 0.7881 - val_loss: 0.1441 - val_accuracy: 0.8721\n",
            "Epoch 28/100\n",
            "153/153 [==============================] - 1s 6ms/step - loss: 0.1705 - accuracy: 0.8020 - val_loss: 0.1389 - val_accuracy: 0.8864\n",
            "Epoch 29/100\n",
            "153/153 [==============================] - 1s 5ms/step - loss: 0.1623 - accuracy: 0.8150 - val_loss: 0.1334 - val_accuracy: 0.9000\n",
            "Epoch 30/100\n",
            "153/153 [==============================] - 1s 5ms/step - loss: 0.1602 - accuracy: 0.8207 - val_loss: 0.1280 - val_accuracy: 0.9136\n",
            "Epoch 31/100\n",
            "153/153 [==============================] - 1s 4ms/step - loss: 0.1546 - accuracy: 0.8277 - val_loss: 0.1227 - val_accuracy: 0.9307\n",
            "Epoch 32/100\n",
            "153/153 [==============================] - 1s 4ms/step - loss: 0.1533 - accuracy: 0.8375 - val_loss: 0.1176 - val_accuracy: 0.9450\n",
            "Epoch 33/100\n",
            "153/153 [==============================] - 1s 4ms/step - loss: 0.1470 - accuracy: 0.8469 - val_loss: 0.1124 - val_accuracy: 0.9543\n",
            "Epoch 34/100\n",
            "153/153 [==============================] - 1s 4ms/step - loss: 0.1415 - accuracy: 0.8547 - val_loss: 0.1073 - val_accuracy: 0.9636\n",
            "Epoch 35/100\n",
            "153/153 [==============================] - 1s 4ms/step - loss: 0.1388 - accuracy: 0.8592 - val_loss: 0.1024 - val_accuracy: 0.9693\n",
            "Epoch 36/100\n",
            "153/153 [==============================] - 1s 4ms/step - loss: 0.1357 - accuracy: 0.8717 - val_loss: 0.0970 - val_accuracy: 0.9721\n",
            "Epoch 37/100\n",
            "153/153 [==============================] - 1s 4ms/step - loss: 0.1310 - accuracy: 0.8732 - val_loss: 0.0916 - val_accuracy: 0.9729\n",
            "Epoch 38/100\n",
            "153/153 [==============================] - 1s 4ms/step - loss: 0.1253 - accuracy: 0.8842 - val_loss: 0.0857 - val_accuracy: 0.9771\n",
            "Epoch 39/100\n",
            "153/153 [==============================] - 1s 4ms/step - loss: 0.1191 - accuracy: 0.8904 - val_loss: 0.0805 - val_accuracy: 0.9800\n",
            "Epoch 40/100\n",
            "153/153 [==============================] - 1s 4ms/step - loss: 0.1183 - accuracy: 0.8918 - val_loss: 0.0759 - val_accuracy: 0.9814\n",
            "Epoch 41/100\n",
            "153/153 [==============================] - 1s 4ms/step - loss: 0.1117 - accuracy: 0.9023 - val_loss: 0.0713 - val_accuracy: 0.9829\n",
            "Epoch 42/100\n",
            "153/153 [==============================] - 1s 4ms/step - loss: 0.1082 - accuracy: 0.9043 - val_loss: 0.0667 - val_accuracy: 0.9879\n",
            "Epoch 43/100\n",
            "153/153 [==============================] - 1s 4ms/step - loss: 0.1033 - accuracy: 0.9074 - val_loss: 0.0626 - val_accuracy: 0.9914\n",
            "Epoch 44/100\n",
            "153/153 [==============================] - 1s 4ms/step - loss: 0.1014 - accuracy: 0.9150 - val_loss: 0.0585 - val_accuracy: 0.9957\n",
            "Epoch 45/100\n",
            "153/153 [==============================] - 1s 4ms/step - loss: 0.0977 - accuracy: 0.9119 - val_loss: 0.0549 - val_accuracy: 0.9971\n",
            "Epoch 46/100\n",
            "153/153 [==============================] - 1s 5ms/step - loss: 0.0962 - accuracy: 0.9195 - val_loss: 0.0516 - val_accuracy: 0.9979\n",
            "Epoch 47/100\n",
            "153/153 [==============================] - 1s 6ms/step - loss: 0.0945 - accuracy: 0.9215 - val_loss: 0.0483 - val_accuracy: 0.9993\n",
            "Epoch 48/100\n",
            "153/153 [==============================] - 1s 5ms/step - loss: 0.0901 - accuracy: 0.9240 - val_loss: 0.0451 - val_accuracy: 1.0000\n",
            "Epoch 49/100\n",
            "153/153 [==============================] - 1s 6ms/step - loss: 0.0870 - accuracy: 0.9273 - val_loss: 0.0418 - val_accuracy: 1.0000\n",
            "Epoch 50/100\n",
            "153/153 [==============================] - 1s 6ms/step - loss: 0.0845 - accuracy: 0.9260 - val_loss: 0.0389 - val_accuracy: 1.0000\n",
            "Epoch 51/100\n",
            "153/153 [==============================] - 1s 4ms/step - loss: 0.0818 - accuracy: 0.9309 - val_loss: 0.0360 - val_accuracy: 1.0000\n",
            "Epoch 52/100\n",
            "153/153 [==============================] - 1s 4ms/step - loss: 0.0773 - accuracy: 0.9361 - val_loss: 0.0334 - val_accuracy: 1.0000\n",
            "Epoch 53/100\n",
            "153/153 [==============================] - 1s 4ms/step - loss: 0.0762 - accuracy: 0.9361 - val_loss: 0.0310 - val_accuracy: 1.0000\n",
            "Epoch 54/100\n",
            "153/153 [==============================] - 1s 4ms/step - loss: 0.0756 - accuracy: 0.9357 - val_loss: 0.0287 - val_accuracy: 1.0000\n",
            "Epoch 55/100\n",
            "153/153 [==============================] - 1s 4ms/step - loss: 0.0703 - accuracy: 0.9404 - val_loss: 0.0266 - val_accuracy: 1.0000\n",
            "Epoch 56/100\n",
            "153/153 [==============================] - 1s 4ms/step - loss: 0.0663 - accuracy: 0.9439 - val_loss: 0.0247 - val_accuracy: 1.0000\n",
            "Epoch 57/100\n",
            "153/153 [==============================] - 1s 4ms/step - loss: 0.0675 - accuracy: 0.9426 - val_loss: 0.0231 - val_accuracy: 1.0000\n",
            "Epoch 58/100\n",
            "153/153 [==============================] - 1s 4ms/step - loss: 0.0630 - accuracy: 0.9467 - val_loss: 0.0214 - val_accuracy: 1.0000\n",
            "Epoch 59/100\n",
            "153/153 [==============================] - 1s 4ms/step - loss: 0.0590 - accuracy: 0.9527 - val_loss: 0.0199 - val_accuracy: 1.0000\n",
            "Epoch 60/100\n",
            "153/153 [==============================] - 1s 4ms/step - loss: 0.0636 - accuracy: 0.9457 - val_loss: 0.0185 - val_accuracy: 1.0000\n",
            "Epoch 61/100\n",
            "153/153 [==============================] - 1s 4ms/step - loss: 0.0579 - accuracy: 0.9514 - val_loss: 0.0171 - val_accuracy: 1.0000\n",
            "Epoch 62/100\n",
            "153/153 [==============================] - 1s 4ms/step - loss: 0.0563 - accuracy: 0.9508 - val_loss: 0.0158 - val_accuracy: 1.0000\n",
            "Epoch 63/100\n",
            "153/153 [==============================] - 1s 5ms/step - loss: 0.0562 - accuracy: 0.9529 - val_loss: 0.0147 - val_accuracy: 1.0000\n",
            "Epoch 64/100\n",
            "153/153 [==============================] - 1s 4ms/step - loss: 0.0540 - accuracy: 0.9549 - val_loss: 0.0137 - val_accuracy: 1.0000\n",
            "Epoch 65/100\n",
            "153/153 [==============================] - 1s 4ms/step - loss: 0.0497 - accuracy: 0.9623 - val_loss: 0.0125 - val_accuracy: 1.0000\n",
            "Epoch 66/100\n",
            "153/153 [==============================] - 1s 5ms/step - loss: 0.0488 - accuracy: 0.9592 - val_loss: 0.0116 - val_accuracy: 1.0000\n",
            "Epoch 67/100\n",
            "153/153 [==============================] - 1s 5ms/step - loss: 0.0491 - accuracy: 0.9594 - val_loss: 0.0109 - val_accuracy: 1.0000\n",
            "Epoch 68/100\n",
            "153/153 [==============================] - 1s 6ms/step - loss: 0.0507 - accuracy: 0.9561 - val_loss: 0.0102 - val_accuracy: 1.0000\n",
            "Epoch 69/100\n",
            "153/153 [==============================] - 1s 5ms/step - loss: 0.0432 - accuracy: 0.9654 - val_loss: 0.0094 - val_accuracy: 1.0000\n",
            "Epoch 70/100\n",
            "153/153 [==============================] - 1s 5ms/step - loss: 0.0485 - accuracy: 0.9590 - val_loss: 0.0089 - val_accuracy: 1.0000\n",
            "Epoch 71/100\n",
            "153/153 [==============================] - 1s 4ms/step - loss: 0.0451 - accuracy: 0.9627 - val_loss: 0.0083 - val_accuracy: 1.0000\n",
            "Epoch 72/100\n",
            "153/153 [==============================] - 1s 4ms/step - loss: 0.0429 - accuracy: 0.9633 - val_loss: 0.0077 - val_accuracy: 1.0000\n",
            "Epoch 73/100\n",
            "153/153 [==============================] - 1s 4ms/step - loss: 0.0400 - accuracy: 0.9660 - val_loss: 0.0072 - val_accuracy: 1.0000\n",
            "Epoch 74/100\n",
            "153/153 [==============================] - 1s 4ms/step - loss: 0.0400 - accuracy: 0.9668 - val_loss: 0.0067 - val_accuracy: 1.0000\n",
            "Epoch 75/100\n",
            "153/153 [==============================] - 1s 4ms/step - loss: 0.0382 - accuracy: 0.9670 - val_loss: 0.0061 - val_accuracy: 1.0000\n",
            "Epoch 76/100\n",
            "153/153 [==============================] - 1s 4ms/step - loss: 0.0393 - accuracy: 0.9676 - val_loss: 0.0057 - val_accuracy: 1.0000\n",
            "Epoch 77/100\n",
            "153/153 [==============================] - 1s 4ms/step - loss: 0.0390 - accuracy: 0.9650 - val_loss: 0.0054 - val_accuracy: 1.0000\n",
            "Epoch 78/100\n",
            "153/153 [==============================] - 1s 4ms/step - loss: 0.0340 - accuracy: 0.9697 - val_loss: 0.0050 - val_accuracy: 1.0000\n",
            "Epoch 79/100\n",
            "153/153 [==============================] - 1s 4ms/step - loss: 0.0331 - accuracy: 0.9723 - val_loss: 0.0046 - val_accuracy: 1.0000\n",
            "Epoch 80/100\n",
            "153/153 [==============================] - 1s 4ms/step - loss: 0.0324 - accuracy: 0.9717 - val_loss: 0.0042 - val_accuracy: 1.0000\n",
            "Epoch 81/100\n",
            "153/153 [==============================] - 1s 4ms/step - loss: 0.0338 - accuracy: 0.9711 - val_loss: 0.0039 - val_accuracy: 1.0000\n",
            "Epoch 82/100\n",
            "153/153 [==============================] - 1s 4ms/step - loss: 0.0345 - accuracy: 0.9695 - val_loss: 0.0036 - val_accuracy: 1.0000\n",
            "Epoch 83/100\n",
            "153/153 [==============================] - 1s 4ms/step - loss: 0.0334 - accuracy: 0.9709 - val_loss: 0.0034 - val_accuracy: 1.0000\n",
            "Epoch 84/100\n",
            "153/153 [==============================] - 1s 4ms/step - loss: 0.0343 - accuracy: 0.9680 - val_loss: 0.0031 - val_accuracy: 1.0000\n",
            "Epoch 85/100\n",
            "153/153 [==============================] - 1s 4ms/step - loss: 0.0362 - accuracy: 0.9650 - val_loss: 0.0029 - val_accuracy: 1.0000\n",
            "Epoch 86/100\n",
            "153/153 [==============================] - 1s 5ms/step - loss: 0.0335 - accuracy: 0.9699 - val_loss: 0.0027 - val_accuracy: 1.0000\n",
            "Epoch 87/100\n",
            "153/153 [==============================] - 1s 5ms/step - loss: 0.0292 - accuracy: 0.9740 - val_loss: 0.0025 - val_accuracy: 1.0000\n",
            "Epoch 88/100\n",
            "153/153 [==============================] - 1s 5ms/step - loss: 0.0323 - accuracy: 0.9689 - val_loss: 0.0024 - val_accuracy: 1.0000\n",
            "Epoch 89/100\n",
            "153/153 [==============================] - 1s 5ms/step - loss: 0.0306 - accuracy: 0.9713 - val_loss: 0.0022 - val_accuracy: 1.0000\n",
            "Epoch 90/100\n",
            "153/153 [==============================] - 1s 6ms/step - loss: 0.0311 - accuracy: 0.9695 - val_loss: 0.0020 - val_accuracy: 1.0000\n",
            "Epoch 91/100\n",
            "153/153 [==============================] - 1s 4ms/step - loss: 0.0319 - accuracy: 0.9695 - val_loss: 0.0019 - val_accuracy: 1.0000\n",
            "Epoch 92/100\n",
            "153/153 [==============================] - 1s 4ms/step - loss: 0.0280 - accuracy: 0.9734 - val_loss: 0.0018 - val_accuracy: 1.0000\n",
            "Epoch 93/100\n",
            "153/153 [==============================] - 1s 4ms/step - loss: 0.0330 - accuracy: 0.9674 - val_loss: 0.0017 - val_accuracy: 1.0000\n",
            "Epoch 94/100\n",
            "153/153 [==============================] - 1s 4ms/step - loss: 0.0284 - accuracy: 0.9717 - val_loss: 0.0016 - val_accuracy: 1.0000\n",
            "Epoch 95/100\n",
            "153/153 [==============================] - 1s 4ms/step - loss: 0.0264 - accuracy: 0.9750 - val_loss: 0.0015 - val_accuracy: 1.0000\n",
            "Epoch 96/100\n",
            "153/153 [==============================] - 1s 4ms/step - loss: 0.0280 - accuracy: 0.9727 - val_loss: 0.0014 - val_accuracy: 1.0000\n",
            "Epoch 97/100\n",
            "153/153 [==============================] - 1s 4ms/step - loss: 0.0286 - accuracy: 0.9732 - val_loss: 0.0013 - val_accuracy: 1.0000\n",
            "Epoch 98/100\n",
            "153/153 [==============================] - 1s 4ms/step - loss: 0.0273 - accuracy: 0.9744 - val_loss: 0.0012 - val_accuracy: 1.0000\n",
            "Epoch 99/100\n",
            "153/153 [==============================] - 1s 4ms/step - loss: 0.0273 - accuracy: 0.9734 - val_loss: 0.0011 - val_accuracy: 1.0000\n",
            "Epoch 100/100\n",
            "153/153 [==============================] - 1s 4ms/step - loss: 0.0268 - accuracy: 0.9727 - val_loss: 0.0010 - val_accuracy: 1.0000\n"
          ]
        },
        {
          "output_type": "display_data",
          "data": {
            "text/plain": [
              "<Figure size 640x480 with 1 Axes>"
            ],
            "image/png": "[encoded data removed]"
          },
          "metadata": {}
        },
        {
          "output_type": "display_data",
          "data": {
            "text/plain": [
              "<Figure size 640x480 with 1 Axes>"
            ],
            "image/png": "[encoded data removed]"
          },
          "metadata": {}
        }
      ]
    },
    {
      "cell_type": "markdown",
      "source": [
        "Test model with random number and return Normal or Stunting"
      ],
      "metadata": {
        "id": "w63v6MalR9M4"
      }
    },
    {
      "cell_type": "code",
      "source": [
        "import random\n",
        "\n",
        "Age = random.randint(1,5)\n",
        "Gender = random.randint(0,1)\n",
        "Height = round(random.uniform(69.0, 124), 2) if Gender == 0 else round(random.uniform(66.0, 124), 2)\n",
        "Weight = round(random.uniform(6.9, 27.9), 2) if Gender == 0 else round(random.uniform(6.3, 29.5), 2)\n",
        "\n",
        "test_data = np.array([[Age, Gender, Height, Weight]])\n",
        "\n",
        "scaled_test = scaler.transform(test_data)\n",
        "\n",
        "predict = model.predict(scaled_test)\n",
        "\n",
        "result = \"Normal\" if predict[0,0] <= 0.5 else \"Stunting\"\n",
        "\n",
        "print(f\"Age\\t : {Age} years old\\nGender\\t : {'Boy' if Gender == 0 else 'Girl'}\\nHeight\\t : {Height} cm\\nWeight\\t : {Weight} kg\\nCategory : {result} ({predict})\")"
      ],
      "metadata": {
        "id": "L27d98dsCFYq",
        "colab": {
          "base_uri": "https://localhost:8080/"
        },
        "outputId": "0e38b3d1-f48f-4063-ebef-c329cc15f6c0"
      },
      "execution_count": 24,
      "outputs": [
        {
          "output_type": "stream",
          "name": "stdout",
          "text": [
            "1/1 [==============================] - 0s 28ms/step\n",
            "Age\t : 4 years old\n",
            "Gender\t : Girl\n",
            "Height\t : 97.57 cm\n",
            "Weight\t : 27.06 kg\n",
            "Category : Normal ([[9.156047e-19]])\n"
          ]
        },
        {
          "output_type": "stream",
          "name": "stderr",
          "text": [
            "/usr/local/lib/python3.10/dist-packages/sklearn/base.py:439: UserWarning: X does not have valid feature names, but StandardScaler was fitted with feature names\n",
            "  warnings.warn(\n"
          ]
        }
      ]
    },
    {
      "cell_type": "code",
      "source": [
        "model.save('model.keras')"
      ],
      "metadata": {
        "id": "ErQr6_Jdzc96"
      },
      "execution_count": 25,
      "outputs": []
    }
  ]
}